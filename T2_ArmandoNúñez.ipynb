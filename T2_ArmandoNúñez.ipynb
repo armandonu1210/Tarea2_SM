{
 "cells": [
  {
   "cell_type": "markdown",
   "metadata": {},
   "source": [
    "## Python is becoming the world’s most popular coding language\n",
    "\n",
    "**Python** fue creado en 1989 por el informático holandés Guido van Rossum, donde dijo que ciertamente no estaba creando un lenguaje de programación para el consumo masivo, 30 años después este lenguaje de programación se ha elevado hasta los primeros lugares en las categorías de los mejores lenguajes de programación llevando la programación a personas que estaban totalmente desconectadas con esta. En el último año **Pyhton** ha sido más buscado que Kim Kardashian en Google, siendo las búsquedas triplicadas a partir del año del 2010, mientras que las búsquedas de otros lenguajes de programación se han mantendido o han ido bajando.\n",
    "\n",
    "### ***¿Qué hace tan especial a Pyhton de otros lenguajes de programación?***\n",
    "\n",
    "**Pyhton** se caracteriza principalmente por su sencilla sintaxis y también la flexibilidad que tiene dicho lenguaje han hecho que se posicione por encima de sus competencias, los *Pythonistas* han subido aproximadamente 145,000 paquetes personalizados de software que abarcan todos los ámbitos, desde la creación y desarrollo de videojuegos hasta la creación de películas, herramienta publicitaria y uno de los puntos más importantes, la Agencia Central de Inteligencia ha utilizado **Python** para piratear, dejando claro la versatilidad que tiene dicho lenguaje.\n",
    "\n",
    "### ***¿La caída de los más grandes, como Java o C y C++?***\n",
    "\n",
    "Se dice que con el avance que **Python** está teniendo, en algun momento cercano éste puede llegar a dejar obsoletos a sus competidores más importantes que son **Java** y **C+** y colocarse como lenguaje madre de la codificación, Grady Booch, científico de software jefe de IBM  habló acerca del tema y menciona que esa afirmación es muy poco probable porque  **Pyhton** no podrá ofrecer las opciones que esos dos lenguajes manejan, el control sobre los procesadores de una computadora, por parte de **C** y **C++**, mientras que no se podrán crear apliaciones tan complejas sin **Java**, así que todo quedaría por demostrarte. *¿Podría **Pyhton** convertirse en el lenguaje de programación más importante a nivel internacional?*\n",
    "\n",
    "## Python has brought computer programming to a vast new audience\n",
    "\n",
    "La popularidad de **Pyhton** ha crecido muy rápido en los últimos años, alrededor del 40% de los programadores utiliza **Python**, mientras que, otro 25% que no programa tiene piensos de comenzar con este lenguaje de programación. Como ya se mencionaba anteriormente los programadores de **Python** han subido aproximadamente alrededor de 145,000 paquetes de software personalizados, los que más destacan son aquellos que pueden ser utilizados para la *Inteligencia Artificial (IA)*. Los usuarios pueden crear redes neuronales, que imitan las conexiones en un cerebro, para seleccionar patrones en grandes cantidades de datos. Van Rossum dice que **Python** se ha convertido en el lenguaje elegido por los investigadores de IA.\n",
    "\n",
    "*Los especialistas en marketing*, pueden usar el lenguaje para construir modelos estadísticos que midan la efectividad de las campañas. *Los profesores universitarios* pueden comprobar si están distribuyendo las calificaciones correctamente. Para las profesiones que durante mucho tiempo se han basado en el rastreo de hojas de cálculo, **Python** es especialmente valioso. ***Citigroup, un banco estadounidense, ha introducido un curso intensivo de Python para sus analistas en formación. Un sitio web de empleos, eFinancialCareers, informa un aumento de casi cuatro veces en los listados que mencionan a Python entre los primeros trimestres de 2015 y 2018.***\n",
    "\n",
    "En pocas palabras se puede decir que **Pyhton** ha crecido exponencialmente en los últimos años en todos los ámbitos, gracias a su simplicidad y que seguramente lo seguirá haciendo con la implementación de nuevos paquetes donde se puedan lograr más cosas de las que **Python** ya ha sido capaz.\n",
    "\n"
   ]
  },
  {
   "cell_type": "code",
   "execution_count": null,
   "metadata": {},
   "outputs": [],
   "source": []
  }
 ],
 "metadata": {
  "kernelspec": {
   "display_name": "Python 3",
   "language": "python",
   "name": "python3"
  },
  "language_info": {
   "codemirror_mode": {
    "name": "ipython",
    "version": 3
   },
   "file_extension": ".py",
   "mimetype": "text/x-python",
   "name": "python",
   "nbconvert_exporter": "python",
   "pygments_lexer": "ipython3",
   "version": "3.8.3"
  }
 },
 "nbformat": 4,
 "nbformat_minor": 4
}
